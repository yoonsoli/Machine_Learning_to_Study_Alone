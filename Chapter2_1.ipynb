{
  "nbformat": 4,
  "nbformat_minor": 0,
  "metadata": {
    "colab": {
      "provenance": [],
      "authorship_tag": "ABX9TyMck4P3msY7GYL5mhPfJfhY",
      "include_colab_link": true
    },
    "kernelspec": {
      "name": "python3",
      "display_name": "Python 3"
    },
    "language_info": {
      "name": "python"
    }
  },
  "cells": [
    {
      "cell_type": "markdown",
      "metadata": {
        "id": "view-in-github",
        "colab_type": "text"
      },
      "source": [
        "<a href=\"https://colab.research.google.com/github/yoonsoli/Machine_Learning_to_Study_Alone/blob/main/Chapter2_1.ipynb\" target=\"_parent\"><img src=\"https://colab.research.google.com/assets/colab-badge.svg\" alt=\"Open In Colab\"/></a>"
      ]
    },
    {
      "cell_type": "code",
      "execution_count": 10,
      "metadata": {
        "id": "N1oAXHg2Y6DJ"
      },
      "outputs": [],
      "source": [
        "fish_length = [25.4, 26.3, 26.5, 29.0, 29.0, 29.7, 29.7, 30.0, 30.0, 30.7, 31.0, 31.0, \n",
        "                31.5, 32.0, 32.0, 32.0, 33.0, 33.0, 33.5, 33.5, 34.0, 34.0, 34.5, 35.0, \n",
        "                35.0, 35.0, 35.0, 36.0, 36.0, 37.0, 38.5, 38.5, 39.5, 41.0, 41.0, 9.8, \n",
        "                10.5, 10.6, 11.0, 11.2, 11.3, 11.8, 11.8, 12.0, 12.2, 12.4, 13.0, 14.3, 15.0]\n",
        "fish_weight = [242.0, 290.0, 340.0, 363.0, 430.0, 450.0, 500.0, 390.0, 450.0, 500.0, 475.0, 500.0, \n",
        "                500.0, 340.0, 600.0, 600.0, 700.0, 700.0, 610.0, 650.0, 575.0, 685.0, 620.0, 680.0, \n",
        "                700.0, 725.0, 720.0, 714.0, 850.0, 1000.0, 920.0, 955.0, 925.0, 975.0, 950.0, 6.7, \n",
        "                7.5, 7.0, 9.7, 9.8, 8.7, 10.0, 9.9, 9.8, 12.2, 13.4, 12.2, 19.7, 19.9]"
      ]
    },
    {
      "cell_type": "code",
      "source": [
        "fish_data = [[l, w] for l, w in zip(fish_length, fish_weight)]\n",
        "fish_target = [1]*35 + [0]*14"
      ],
      "metadata": {
        "id": "0IdrfbcssYZS"
      },
      "execution_count": 11,
      "outputs": []
    },
    {
      "cell_type": "code",
      "source": [
        "from sklearn.neighbors import KNeighborsClassifier"
      ],
      "metadata": {
        "id": "KPO0ks5PtCDN"
      },
      "execution_count": 12,
      "outputs": []
    },
    {
      "cell_type": "code",
      "source": [
        "kn = KNeighborsClassifier()"
      ],
      "metadata": {
        "id": "HorpOXK5th_t"
      },
      "execution_count": 13,
      "outputs": []
    },
    {
      "cell_type": "code",
      "source": [
        "print(fish_data[0:5])"
      ],
      "metadata": {
        "colab": {
          "base_uri": "https://localhost:8080/"
        },
        "id": "cayI3KQ0tmK1",
        "outputId": "3c5d18fc-e74e-4a3b-bab6-e013f61fdc91"
      },
      "execution_count": 14,
      "outputs": [
        {
          "output_type": "stream",
          "name": "stdout",
          "text": [
            "[[25.4, 242.0], [26.3, 290.0], [26.5, 340.0], [29.0, 363.0], [29.0, 430.0]]\n"
          ]
        }
      ]
    },
    {
      "cell_type": "code",
      "source": [
        "print(fish_data[:5])"
      ],
      "metadata": {
        "colab": {
          "base_uri": "https://localhost:8080/"
        },
        "id": "QgBHlQ_Vtv29",
        "outputId": "2bd3c373-5d37-4d41-e186-53f643bcac1d"
      },
      "execution_count": 15,
      "outputs": [
        {
          "output_type": "stream",
          "name": "stdout",
          "text": [
            "[[25.4, 242.0], [26.3, 290.0], [26.5, 340.0], [29.0, 363.0], [29.0, 430.0]]\n"
          ]
        }
      ]
    },
    {
      "cell_type": "code",
      "source": [
        "# 훈련 세트로 입력값 중 0부터 34번째 인덱스까지 사용\n",
        "train_input = fish_data[:35]\n",
        "# 훈련 세트로 타깃값 중 0부터 34번째 인덱스까지 사용\n",
        "train_target = fish_target[:35]\n",
        "# 테스트 세트로 입력값 중 35번째부터 마지막 인덱스까지 사용\n",
        "test_input = fish_data[35:]\n",
        "# 테스트 세트로 타깃값 중 35번째부터 마지막 인덱스까지 사용\n",
        "test_target = fish_target[35:]"
      ],
      "metadata": {
        "id": "doR19Ob-uMXd"
      },
      "execution_count": 16,
      "outputs": []
    },
    {
      "cell_type": "code",
      "source": [
        "kn.fit(train_input, train_target)\n",
        "kn.score(test_input, test_target)"
      ],
      "metadata": {
        "colab": {
          "base_uri": "https://localhost:8080/"
        },
        "id": "ZuzKj2tjvuZY",
        "outputId": "d7535c89-4a3d-4679-8a83-0683d154b2c8"
      },
      "execution_count": 17,
      "outputs": [
        {
          "output_type": "execute_result",
          "data": {
            "text/plain": [
              "0.0"
            ]
          },
          "metadata": {},
          "execution_count": 17
        }
      ]
    },
    {
      "cell_type": "markdown",
      "source": [
        "샘플링 편향 : 훈련 세트와 테스트 세트에 샘플이 골고루 섞여 있지 않음\n",
        "// 지금 코드는 샘플링 편향 되어있음"
      ],
      "metadata": {
        "id": "ZynVxwcixzPu"
      }
    },
    {
      "cell_type": "code",
      "source": [
        "import numpy as np # 배열 라이브러리 고차원 배열을 만들고 조작할 수 있는 간편한 도구를 많이 제공"
      ],
      "metadata": {
        "id": "IHRiFwTgxWKe"
      },
      "execution_count": 18,
      "outputs": []
    },
    {
      "cell_type": "code",
      "source": [
        "input_arr = np.array(fish_data)\n",
        "target_arr = np.array(fish_target)"
      ],
      "metadata": {
        "id": "6EWWY1DJzlly"
      },
      "execution_count": 19,
      "outputs": []
    },
    {
      "cell_type": "code",
      "source": [
        "print(input_arr)"
      ],
      "metadata": {
        "colab": {
          "base_uri": "https://localhost:8080/"
        },
        "id": "Mm8dS1uP1_T6",
        "outputId": "c7718c5f-0815-4d67-8cc0-6581b5908a07"
      },
      "execution_count": 20,
      "outputs": [
        {
          "output_type": "stream",
          "name": "stdout",
          "text": [
            "[[  25.4  242. ]\n",
            " [  26.3  290. ]\n",
            " [  26.5  340. ]\n",
            " [  29.   363. ]\n",
            " [  29.   430. ]\n",
            " [  29.7  450. ]\n",
            " [  29.7  500. ]\n",
            " [  30.   390. ]\n",
            " [  30.   450. ]\n",
            " [  30.7  500. ]\n",
            " [  31.   475. ]\n",
            " [  31.   500. ]\n",
            " [  31.5  500. ]\n",
            " [  32.   340. ]\n",
            " [  32.   600. ]\n",
            " [  32.   600. ]\n",
            " [  33.   700. ]\n",
            " [  33.   700. ]\n",
            " [  33.5  610. ]\n",
            " [  33.5  650. ]\n",
            " [  34.   575. ]\n",
            " [  34.   685. ]\n",
            " [  34.5  620. ]\n",
            " [  35.   680. ]\n",
            " [  35.   700. ]\n",
            " [  35.   725. ]\n",
            " [  35.   720. ]\n",
            " [  36.   714. ]\n",
            " [  36.   850. ]\n",
            " [  37.  1000. ]\n",
            " [  38.5  920. ]\n",
            " [  38.5  955. ]\n",
            " [  39.5  925. ]\n",
            " [  41.   975. ]\n",
            " [  41.   950. ]\n",
            " [   9.8    6.7]\n",
            " [  10.5    7.5]\n",
            " [  10.6    7. ]\n",
            " [  11.     9.7]\n",
            " [  11.2    9.8]\n",
            " [  11.3    8.7]\n",
            " [  11.8   10. ]\n",
            " [  11.8    9.9]\n",
            " [  12.     9.8]\n",
            " [  12.2   12.2]\n",
            " [  12.4   13.4]\n",
            " [  13.    12.2]\n",
            " [  14.3   19.7]\n",
            " [  15.    19.9]]\n"
          ]
        }
      ]
    },
    {
      "cell_type": "code",
      "source": [
        "print(input_arr.shape)"
      ],
      "metadata": {
        "colab": {
          "base_uri": "https://localhost:8080/"
        },
        "id": "9Iq3JXfb2NDl",
        "outputId": "c2cc17ed-6360-4ab1-a4c8-4c092ecd6c1e"
      },
      "execution_count": 21,
      "outputs": [
        {
          "output_type": "stream",
          "name": "stdout",
          "text": [
            "(49, 2)\n"
          ]
        }
      ]
    },
    {
      "cell_type": "code",
      "source": [
        "np.random.seed(42) # 일정한 무작위 결과를 만들기 위해서 시드를 정해둠\n",
        "index = np.arange(49) # 0에서부터 N-1까지 1씩 증가하는 배열\n",
        "np.random.shuffle(index) "
      ],
      "metadata": {
        "id": "4NHNFw-_39A9"
      },
      "execution_count": 26,
      "outputs": []
    },
    {
      "cell_type": "code",
      "source": [
        "print(index) # 셔플 하지 않은 index"
      ],
      "metadata": {
        "colab": {
          "base_uri": "https://localhost:8080/"
        },
        "id": "UWppRuEgCmw2",
        "outputId": "4acb4f02-f489-4935-b189-91684faa328c"
      },
      "execution_count": 27,
      "outputs": [
        {
          "output_type": "stream",
          "name": "stdout",
          "text": [
            "[ 0  1  2  3  4  5  6  7  8  9 10 11 12 13 14 15 16 17 18 19 20 21 22 23\n",
            " 24 25 26 27 28 29 30 31 32 33 34 35 36 37 38 39 40 41 42 43 44 45 46 47\n",
            " 48]\n"
          ]
        }
      ]
    },
    {
      "cell_type": "code",
      "source": [
        "print(input_arr[[1,3]])"
      ],
      "metadata": {
        "colab": {
          "base_uri": "https://localhost:8080/"
        },
        "id": "YyVxeq8_C42p",
        "outputId": "ad8714dc-4478-4e95-9afa-c49aa650e115"
      },
      "execution_count": 24,
      "outputs": [
        {
          "output_type": "stream",
          "name": "stdout",
          "text": [
            "[[ 26.3 290. ]\n",
            " [ 29.  363. ]]\n"
          ]
        }
      ]
    },
    {
      "cell_type": "markdown",
      "source": [
        "넘파이는 슬라이싱 외에 배열 인덱싱이란 기능을 제공 //\n",
        "배열 인덱싱은 1개의 인덱스가 아닌 여러 개의 인덱스로 한 번에 여러 개의 원소를 선택 할 수 있음"
      ],
      "metadata": {
        "id": "sgLLsKE1FQUL"
      }
    },
    {
      "cell_type": "code",
      "source": [
        "train_input = input_arr[index[:35]]\n",
        "train_target = target_arr[index[:35]]"
      ],
      "metadata": {
        "id": "jVwFPX0VFArJ"
      },
      "execution_count": 28,
      "outputs": []
    },
    {
      "cell_type": "code",
      "source": [
        "print(input)"
      ],
      "metadata": {
        "id": "7GCdsRJLF-5q"
      },
      "execution_count": null,
      "outputs": []
    }
  ]
}